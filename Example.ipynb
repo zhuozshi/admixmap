{
 "cells": [
  {
   "cell_type": "code",
   "execution_count": 1,
   "id": "fc2d479a",
   "metadata": {},
   "outputs": [],
   "source": [
    "import matplotlib.pyplot as plt\n",
    "import admix\n",
    "import numpy as np\n",
    "from admix.plot import compare_pval\n",
    "from os.path import join\n",
    "import pandas as pd\n",
    "import math\n",
    "import sys\n",
    "import argparse\n",
    "import openpyxl\n",
    "import os\n",
    "import statsmodels.api as sm\n",
    "import statsmodels.formula.api as smf\n",
    "import copy\n",
    "import statsmodels\n",
    "import time\n",
    "import dask.array as da\n",
    "import qtl\n",
    "from qtl.plot import qqplot\n",
    "import matplotlib.image as mpimg\n",
    "from scipy import stats \n",
    "import re\n",
    "import structlog\n",
    "\n",
    "logger = structlog.get_logger()"
   ]
  },
  {
   "cell_type": "code",
   "execution_count": 2,
   "id": "f397b1fb",
   "metadata": {},
   "outputs": [],
   "source": [
    "#first format the phenotype data\n",
    "#use the way fits your dataset\n",
    "#example here uses UKBB\n",
    "\n",
    "trait = \"250.1\"\n",
    "\n",
    "df_dir = \"/u/project/sgss/UKBB/PRS-RESEARCH/03-compile-pheno/out/\"\n",
    "df_pheno = pd.read_csv(join(df_dir,f\"{trait}.tsv\"), delim_whitespace=True, low_memory=False,)\n",
    "df_pheno.index = df_pheno.FID.astype(str) + \"_\" + df_pheno.IID.astype(str)\n",
    "df_pheno = df_pheno.drop(columns=[\"FID\", \"IID\"])\n",
    "df_covar = pd.read_csv(join(df_dir, \"covar.tsv\"),delim_whitespace=True,low_memory=False)\n",
    "df_covar.index = df_covar.FID.astype(str) + \"_\" + df_covar.IID.astype(str)\n",
    "df_covar = df_covar.drop(columns=[\"FID\", \"IID\"])\n",
    "df_combined = pd.concat([df_pheno, df_covar], axis=1)\n",
    "\n",
    "df_combined = df_combined.drop(columns=[\"DEPRIVATION_INDEX\", \"PC11\",\"PC12\",\"PC13\",\"PC14\",\"PC15\",\"PC16\"])\n",
    "\n",
    "compression_opts = dict(method='zip',archive_name=f'test_combine.csv')  \n",
    "df_combined.to_csv(f\"/u/home/z/zhuozshi/project-pasaniuc/ukbb_project/v2/test_folder/test_comb.zip\", index=True, index_label=\"id\",compression=compression_opts) \n",
    "\n",
    "\n"
   ]
  },
  {
   "cell_type": "code",
   "execution_count": 32,
   "id": "960e45a7",
   "metadata": {},
   "outputs": [
    {
     "data": {
      "text/html": [
       "<div>\n",
       "<style scoped>\n",
       "    .dataframe tbody tr th:only-of-type {\n",
       "        vertical-align: middle;\n",
       "    }\n",
       "\n",
       "    .dataframe tbody tr th {\n",
       "        vertical-align: top;\n",
       "    }\n",
       "\n",
       "    .dataframe thead th {\n",
       "        text-align: right;\n",
       "    }\n",
       "</style>\n",
       "<table border=\"1\" class=\"dataframe\">\n",
       "  <thead>\n",
       "    <tr style=\"text-align: right;\">\n",
       "      <th></th>\n",
       "      <th>PHENO</th>\n",
       "      <th>AGE</th>\n",
       "      <th>SEX</th>\n",
       "      <th>PC1</th>\n",
       "      <th>PC2</th>\n",
       "      <th>PC3</th>\n",
       "      <th>PC4</th>\n",
       "      <th>PC5</th>\n",
       "      <th>PC6</th>\n",
       "      <th>PC7</th>\n",
       "      <th>PC8</th>\n",
       "      <th>PC9</th>\n",
       "      <th>PC10</th>\n",
       "    </tr>\n",
       "  </thead>\n",
       "  <tbody>\n",
       "    <tr>\n",
       "      <th>1923142_1923142</th>\n",
       "      <td>0.0</td>\n",
       "      <td>41</td>\n",
       "      <td>0</td>\n",
       "      <td>-11.4615</td>\n",
       "      <td>3.24986</td>\n",
       "      <td>-1.566560</td>\n",
       "      <td>0.333621</td>\n",
       "      <td>-5.31024</td>\n",
       "      <td>-0.218368</td>\n",
       "      <td>1.508250</td>\n",
       "      <td>-2.161980</td>\n",
       "      <td>1.098610</td>\n",
       "      <td>1.118510</td>\n",
       "    </tr>\n",
       "    <tr>\n",
       "      <th>5896937_5896937</th>\n",
       "      <td>0.0</td>\n",
       "      <td>53</td>\n",
       "      <td>0</td>\n",
       "      <td>-12.5305</td>\n",
       "      <td>2.00621</td>\n",
       "      <td>-5.478720</td>\n",
       "      <td>5.895930</td>\n",
       "      <td>7.63028</td>\n",
       "      <td>0.875149</td>\n",
       "      <td>-2.023640</td>\n",
       "      <td>1.442030</td>\n",
       "      <td>1.102370</td>\n",
       "      <td>3.549290</td>\n",
       "    </tr>\n",
       "    <tr>\n",
       "      <th>2847894_2847894</th>\n",
       "      <td>NaN</td>\n",
       "      <td>58</td>\n",
       "      <td>1</td>\n",
       "      <td>-14.5264</td>\n",
       "      <td>1.76954</td>\n",
       "      <td>0.127117</td>\n",
       "      <td>-0.244096</td>\n",
       "      <td>-4.25753</td>\n",
       "      <td>-0.494518</td>\n",
       "      <td>0.235786</td>\n",
       "      <td>3.466990</td>\n",
       "      <td>-0.622341</td>\n",
       "      <td>1.860490</td>\n",
       "    </tr>\n",
       "    <tr>\n",
       "      <th>5764431_5764431</th>\n",
       "      <td>0.0</td>\n",
       "      <td>60</td>\n",
       "      <td>0</td>\n",
       "      <td>-10.8526</td>\n",
       "      <td>2.72869</td>\n",
       "      <td>-1.060580</td>\n",
       "      <td>-0.866161</td>\n",
       "      <td>-7.23222</td>\n",
       "      <td>0.021669</td>\n",
       "      <td>1.943020</td>\n",
       "      <td>-1.808820</td>\n",
       "      <td>-0.505936</td>\n",
       "      <td>0.342399</td>\n",
       "    </tr>\n",
       "    <tr>\n",
       "      <th>4695056_4695056</th>\n",
       "      <td>0.0</td>\n",
       "      <td>65</td>\n",
       "      <td>0</td>\n",
       "      <td>-15.4245</td>\n",
       "      <td>2.42109</td>\n",
       "      <td>-4.002410</td>\n",
       "      <td>2.316300</td>\n",
       "      <td>-0.92956</td>\n",
       "      <td>0.494015</td>\n",
       "      <td>3.379330</td>\n",
       "      <td>-5.852300</td>\n",
       "      <td>-3.074070</td>\n",
       "      <td>1.981010</td>\n",
       "    </tr>\n",
       "    <tr>\n",
       "      <th>...</th>\n",
       "      <td>...</td>\n",
       "      <td>...</td>\n",
       "      <td>...</td>\n",
       "      <td>...</td>\n",
       "      <td>...</td>\n",
       "      <td>...</td>\n",
       "      <td>...</td>\n",
       "      <td>...</td>\n",
       "      <td>...</td>\n",
       "      <td>...</td>\n",
       "      <td>...</td>\n",
       "      <td>...</td>\n",
       "      <td>...</td>\n",
       "    </tr>\n",
       "    <tr>\n",
       "      <th>5738092_5738092</th>\n",
       "      <td>0.0</td>\n",
       "      <td>45</td>\n",
       "      <td>0</td>\n",
       "      <td>64.8253</td>\n",
       "      <td>-118.29300</td>\n",
       "      <td>-44.576000</td>\n",
       "      <td>-1.784150</td>\n",
       "      <td>2.40612</td>\n",
       "      <td>-10.122300</td>\n",
       "      <td>0.850589</td>\n",
       "      <td>1.359010</td>\n",
       "      <td>1.629030</td>\n",
       "      <td>-0.606739</td>\n",
       "    </tr>\n",
       "    <tr>\n",
       "      <th>2284715_2284715</th>\n",
       "      <td>0.0</td>\n",
       "      <td>48</td>\n",
       "      <td>1</td>\n",
       "      <td>-11.1320</td>\n",
       "      <td>5.80997</td>\n",
       "      <td>2.922140</td>\n",
       "      <td>-0.209177</td>\n",
       "      <td>-11.35140</td>\n",
       "      <td>2.627340</td>\n",
       "      <td>2.538100</td>\n",
       "      <td>0.560629</td>\n",
       "      <td>1.910830</td>\n",
       "      <td>-3.200550</td>\n",
       "    </tr>\n",
       "    <tr>\n",
       "      <th>3369445_3369445</th>\n",
       "      <td>0.0</td>\n",
       "      <td>51</td>\n",
       "      <td>0</td>\n",
       "      <td>-11.6389</td>\n",
       "      <td>2.01891</td>\n",
       "      <td>-2.900290</td>\n",
       "      <td>3.003380</td>\n",
       "      <td>13.27890</td>\n",
       "      <td>3.218520</td>\n",
       "      <td>0.960754</td>\n",
       "      <td>-0.290488</td>\n",
       "      <td>-1.867840</td>\n",
       "      <td>-2.128400</td>\n",
       "    </tr>\n",
       "    <tr>\n",
       "      <th>4700415_4700415</th>\n",
       "      <td>0.0</td>\n",
       "      <td>53</td>\n",
       "      <td>1</td>\n",
       "      <td>-12.6424</td>\n",
       "      <td>2.43072</td>\n",
       "      <td>0.178078</td>\n",
       "      <td>6.263680</td>\n",
       "      <td>16.49210</td>\n",
       "      <td>2.054440</td>\n",
       "      <td>-0.825126</td>\n",
       "      <td>2.020530</td>\n",
       "      <td>1.051790</td>\n",
       "      <td>2.304730</td>\n",
       "    </tr>\n",
       "    <tr>\n",
       "      <th>5365191_5365191</th>\n",
       "      <td>0.0</td>\n",
       "      <td>63</td>\n",
       "      <td>1</td>\n",
       "      <td>-13.9744</td>\n",
       "      <td>5.85917</td>\n",
       "      <td>-0.355329</td>\n",
       "      <td>0.557977</td>\n",
       "      <td>-3.85262</td>\n",
       "      <td>-1.743500</td>\n",
       "      <td>-1.363660</td>\n",
       "      <td>-2.954580</td>\n",
       "      <td>1.892750</td>\n",
       "      <td>2.560160</td>\n",
       "    </tr>\n",
       "  </tbody>\n",
       "</table>\n",
       "<p>488266 rows × 13 columns</p>\n",
       "</div>"
      ],
      "text/plain": [
       "                 PHENO  AGE  SEX      PC1        PC2        PC3       PC4  \\\n",
       "1923142_1923142    0.0   41    0 -11.4615    3.24986  -1.566560  0.333621   \n",
       "5896937_5896937    0.0   53    0 -12.5305    2.00621  -5.478720  5.895930   \n",
       "2847894_2847894    NaN   58    1 -14.5264    1.76954   0.127117 -0.244096   \n",
       "5764431_5764431    0.0   60    0 -10.8526    2.72869  -1.060580 -0.866161   \n",
       "4695056_4695056    0.0   65    0 -15.4245    2.42109  -4.002410  2.316300   \n",
       "...                ...  ...  ...      ...        ...        ...       ...   \n",
       "5738092_5738092    0.0   45    0  64.8253 -118.29300 -44.576000 -1.784150   \n",
       "2284715_2284715    0.0   48    1 -11.1320    5.80997   2.922140 -0.209177   \n",
       "3369445_3369445    0.0   51    0 -11.6389    2.01891  -2.900290  3.003380   \n",
       "4700415_4700415    0.0   53    1 -12.6424    2.43072   0.178078  6.263680   \n",
       "5365191_5365191    0.0   63    1 -13.9744    5.85917  -0.355329  0.557977   \n",
       "\n",
       "                      PC5        PC6       PC7       PC8       PC9      PC10  \n",
       "1923142_1923142  -5.31024  -0.218368  1.508250 -2.161980  1.098610  1.118510  \n",
       "5896937_5896937   7.63028   0.875149 -2.023640  1.442030  1.102370  3.549290  \n",
       "2847894_2847894  -4.25753  -0.494518  0.235786  3.466990 -0.622341  1.860490  \n",
       "5764431_5764431  -7.23222   0.021669  1.943020 -1.808820 -0.505936  0.342399  \n",
       "4695056_4695056  -0.92956   0.494015  3.379330 -5.852300 -3.074070  1.981010  \n",
       "...                   ...        ...       ...       ...       ...       ...  \n",
       "5738092_5738092   2.40612 -10.122300  0.850589  1.359010  1.629030 -0.606739  \n",
       "2284715_2284715 -11.35140   2.627340  2.538100  0.560629  1.910830 -3.200550  \n",
       "3369445_3369445  13.27890   3.218520  0.960754 -0.290488 -1.867840 -2.128400  \n",
       "4700415_4700415  16.49210   2.054440 -0.825126  2.020530  1.051790  2.304730  \n",
       "5365191_5365191  -3.85262  -1.743500 -1.363660 -2.954580  1.892750  2.560160  \n",
       "\n",
       "[488266 rows x 13 columns]"
      ]
     },
     "execution_count": 32,
     "metadata": {},
     "output_type": "execute_result"
    }
   ],
   "source": [
    "df_combined"
   ]
  },
  {
   "cell_type": "code",
   "execution_count": 6,
   "id": "04bac628",
   "metadata": {
    "scrolled": true
   },
   "outputs": [
    {
     "name": "stdout",
     "output_type": "stream",
     "text": [
      "2023-10-25 12:41:56 [info     ] Currently working on /u/project/sgss/UKBB/UKB-ADMIXED/01-dataset/out/rfmix-hm3-lanc/chr1.msp.tsv\n",
      "2023-10-25 12:41:57 [info     ] Reading phenotypes and covariates in /u/home/z/zhuozshi/project-pasaniuc/ukbb_project/v2/test_folder/test_comb.zip with shape (488266, 13)\n",
      "First 5 lines of data \n",
      "                 PHENO  AGE  SEX  ...      PC8       PC9      PC10\n",
      "id                                ...                             \n",
      "1923142_1923142    0.0   41    0  ... -2.16198  1.098610  1.118510\n",
      "5896937_5896937    0.0   53    0  ...  1.44203  1.102370  3.549290\n",
      "2847894_2847894    NaN   58    1  ...  3.46699 -0.622341  1.860490\n",
      "5764431_5764431    0.0   60    0  ... -1.80882 -0.505936  0.342399\n",
      "4695056_4695056    0.0   65    0  ... -5.85230 -3.074070  1.981010\n",
      "\n",
      "[5 rows x 13 columns]\n",
      "2023-10-25 12:42:00 [info     ] Found mismatched phenotype and lanc. Removed\n",
      "2023-10-25 12:42:00 [info     ] Found nan phenotypes. Removed\n"
     ]
    },
    {
     "name": "stderr",
     "output_type": "stream",
     "text": [
      "admix.assoc.marginal: 100%|██████████| 1/1 [00:04<00:00,  4.96s/it]\n"
     ]
    },
    {
     "name": "stdout",
     "output_type": "stream",
     "text": [
      "2023-10-25 12:42:25 [info     ] Currently working on /u/project/sgss/UKBB/UKB-ADMIXED/01-dataset/out/rfmix-hm3-lanc/chr2.msp.tsv\n",
      "2023-10-25 12:42:26 [info     ] Reading phenotypes and covariates in /u/home/z/zhuozshi/project-pasaniuc/ukbb_project/v2/test_folder/test_comb.zip with shape (488266, 13)\n",
      "First 5 lines of data \n",
      "                 PHENO  AGE  SEX  ...      PC8       PC9      PC10\n",
      "id                                ...                             \n",
      "1923142_1923142    0.0   41    0  ... -2.16198  1.098610  1.118510\n",
      "5896937_5896937    0.0   53    0  ...  1.44203  1.102370  3.549290\n",
      "2847894_2847894    NaN   58    1  ...  3.46699 -0.622341  1.860490\n",
      "5764431_5764431    0.0   60    0  ... -1.80882 -0.505936  0.342399\n",
      "4695056_4695056    0.0   65    0  ... -5.85230 -3.074070  1.981010\n",
      "\n",
      "[5 rows x 13 columns]\n",
      "2023-10-25 12:42:29 [info     ] Found mismatched phenotype and lanc. Removed\n",
      "2023-10-25 12:42:29 [info     ] Found nan phenotypes. Removed\n"
     ]
    },
    {
     "name": "stderr",
     "output_type": "stream",
     "text": [
      "admix.assoc.marginal: 100%|██████████| 1/1 [00:04<00:00,  4.35s/it]\n"
     ]
    },
    {
     "name": "stdout",
     "output_type": "stream",
     "text": [
      "2023-10-25 12:42:51 [info     ] Currently computing chromosome /u/project/sgss/UKBB/UKB-ADMIXED/01-dataset/out/rfmix-hm3-lanc/chr3.msp.tsv\n",
      "2023-10-25 12:42:52 [info     ] Reading phenotypes and covariates in /u/home/z/zhuozshi/project-pasaniuc/ukbb_project/v2/test_folder/test_comb.zip with shape (488266, 13)\n",
      "First 5 lines of data \n",
      "                 PHENO  AGE  SEX  ...      PC8       PC9      PC10\n",
      "id                                ...                             \n",
      "1923142_1923142    0.0   41    0  ... -2.16198  1.098610  1.118510\n",
      "5896937_5896937    0.0   53    0  ...  1.44203  1.102370  3.549290\n",
      "2847894_2847894    NaN   58    1  ...  3.46699 -0.622341  1.860490\n",
      "5764431_5764431    0.0   60    0  ... -1.80882 -0.505936  0.342399\n",
      "4695056_4695056    0.0   65    0  ... -5.85230 -3.074070  1.981010\n",
      "\n",
      "[5 rows x 13 columns]\n",
      "2023-10-25 12:42:55 [info     ] Found mismatched phenotype and lanc. Removed\n",
      "2023-10-25 12:42:55 [info     ] Found nan phenotypes. Removed\n"
     ]
    },
    {
     "name": "stderr",
     "output_type": "stream",
     "text": [
      "admix.assoc.marginal: 100%|██████████| 1/1 [00:04<00:00,  4.51s/it]\n"
     ]
    },
    {
     "name": "stdout",
     "output_type": "stream",
     "text": [
      "2023-10-25 12:43:18 [info     ] Currently computing chromosome /u/project/sgss/UKBB/UKB-ADMIXED/01-dataset/out/rfmix-hm3-lanc/chr4.msp.tsv\n",
      "2023-10-25 12:43:19 [info     ] Reading phenotypes and covariates in /u/home/z/zhuozshi/project-pasaniuc/ukbb_project/v2/test_folder/test_comb.zip with shape (488266, 13)\n",
      "First 5 lines of data \n",
      "                 PHENO  AGE  SEX  ...      PC8       PC9      PC10\n",
      "id                                ...                             \n",
      "1923142_1923142    0.0   41    0  ... -2.16198  1.098610  1.118510\n",
      "5896937_5896937    0.0   53    0  ...  1.44203  1.102370  3.549290\n",
      "2847894_2847894    NaN   58    1  ...  3.46699 -0.622341  1.860490\n",
      "5764431_5764431    0.0   60    0  ... -1.80882 -0.505936  0.342399\n",
      "4695056_4695056    0.0   65    0  ... -5.85230 -3.074070  1.981010\n",
      "\n",
      "[5 rows x 13 columns]\n",
      "2023-10-25 12:43:22 [info     ] Found mismatched phenotype and lanc. Removed\n",
      "2023-10-25 12:43:22 [info     ] Found nan phenotypes. Removed\n"
     ]
    },
    {
     "name": "stderr",
     "output_type": "stream",
     "text": [
      "admix.assoc.marginal: 100%|██████████| 1/1 [00:04<00:00,  4.06s/it]\n"
     ]
    },
    {
     "name": "stdout",
     "output_type": "stream",
     "text": [
      "2023-10-25 12:43:37 [info     ] Saving to /u/home/z/zhuozshi/project-pasaniuc/ukbb_project/v2/test_folder/T1D.4.csv.gz\n",
      "2023-10-25 12:43:42 [info     ] Currently computing chromosome /u/project/sgss/UKBB/UKB-ADMIXED/01-dataset/out/rfmix-hm3-lanc/chr5.msp.tsv\n",
      "2023-10-25 12:43:44 [info     ] Reading phenotypes and covariates in /u/home/z/zhuozshi/project-pasaniuc/ukbb_project/v2/test_folder/test_comb.zip with shape (488266, 13)\n",
      "First 5 lines of data \n",
      "                 PHENO  AGE  SEX  ...      PC8       PC9      PC10\n",
      "id                                ...                             \n",
      "1923142_1923142    0.0   41    0  ... -2.16198  1.098610  1.118510\n",
      "5896937_5896937    0.0   53    0  ...  1.44203  1.102370  3.549290\n",
      "2847894_2847894    NaN   58    1  ...  3.46699 -0.622341  1.860490\n",
      "5764431_5764431    0.0   60    0  ... -1.80882 -0.505936  0.342399\n",
      "4695056_4695056    0.0   65    0  ... -5.85230 -3.074070  1.981010\n",
      "\n",
      "[5 rows x 13 columns]\n",
      "2023-10-25 12:43:46 [info     ] Found mismatched phenotype and lanc. Removed\n",
      "2023-10-25 12:43:46 [info     ] Found nan phenotypes. Removed\n"
     ]
    },
    {
     "name": "stderr",
     "output_type": "stream",
     "text": [
      "admix.assoc.marginal: 100%|██████████| 1/1 [00:04<00:00,  4.00s/it]\n"
     ]
    },
    {
     "name": "stdout",
     "output_type": "stream",
     "text": [
      "2023-10-25 12:44:01 [info     ] Saving to /u/home/z/zhuozshi/project-pasaniuc/ukbb_project/v2/test_folder/T1D.5.csv.gz\n",
      "2023-10-25 12:44:08 [info     ] Currently computing chromosome /u/project/sgss/UKBB/UKB-ADMIXED/01-dataset/out/rfmix-hm3-lanc/chr6.msp.tsv\n",
      "2023-10-25 12:44:10 [info     ] Reading phenotypes and covariates in /u/home/z/zhuozshi/project-pasaniuc/ukbb_project/v2/test_folder/test_comb.zip with shape (488266, 13)\n",
      "First 5 lines of data \n",
      "                 PHENO  AGE  SEX  ...      PC8       PC9      PC10\n",
      "id                                ...                             \n",
      "1923142_1923142    0.0   41    0  ... -2.16198  1.098610  1.118510\n",
      "5896937_5896937    0.0   53    0  ...  1.44203  1.102370  3.549290\n",
      "2847894_2847894    NaN   58    1  ...  3.46699 -0.622341  1.860490\n",
      "5764431_5764431    0.0   60    0  ... -1.80882 -0.505936  0.342399\n",
      "4695056_4695056    0.0   65    0  ... -5.85230 -3.074070  1.981010\n",
      "\n",
      "[5 rows x 13 columns]\n",
      "2023-10-25 12:44:12 [info     ] Found mismatched phenotype and lanc. Removed\n",
      "2023-10-25 12:44:12 [info     ] Found nan phenotypes. Removed\n"
     ]
    },
    {
     "name": "stderr",
     "output_type": "stream",
     "text": [
      "admix.assoc.marginal: 100%|██████████| 1/1 [00:04<00:00,  4.49s/it]\n"
     ]
    },
    {
     "name": "stdout",
     "output_type": "stream",
     "text": [
      "2023-10-25 12:44:28 [info     ] Saving to /u/home/z/zhuozshi/project-pasaniuc/ukbb_project/v2/test_folder/T1D.6.csv.gz\n",
      "2023-10-25 12:44:35 [info     ] Currently computing chromosome /u/project/sgss/UKBB/UKB-ADMIXED/01-dataset/out/rfmix-hm3-lanc/chr7.msp.tsv\n",
      "2023-10-25 12:44:37 [info     ] Reading phenotypes and covariates in /u/home/z/zhuozshi/project-pasaniuc/ukbb_project/v2/test_folder/test_comb.zip with shape (488266, 13)\n",
      "First 5 lines of data \n",
      "                 PHENO  AGE  SEX  ...      PC8       PC9      PC10\n",
      "id                                ...                             \n",
      "1923142_1923142    0.0   41    0  ... -2.16198  1.098610  1.118510\n",
      "5896937_5896937    0.0   53    0  ...  1.44203  1.102370  3.549290\n",
      "2847894_2847894    NaN   58    1  ...  3.46699 -0.622341  1.860490\n",
      "5764431_5764431    0.0   60    0  ... -1.80882 -0.505936  0.342399\n",
      "4695056_4695056    0.0   65    0  ... -5.85230 -3.074070  1.981010\n",
      "\n",
      "[5 rows x 13 columns]\n",
      "2023-10-25 12:44:39 [info     ] Found mismatched phenotype and lanc. Removed\n",
      "2023-10-25 12:44:39 [info     ] Found nan phenotypes. Removed\n"
     ]
    },
    {
     "name": "stderr",
     "output_type": "stream",
     "text": [
      "admix.assoc.marginal: 100%|██████████| 1/1 [00:04<00:00,  4.12s/it]\n"
     ]
    },
    {
     "name": "stdout",
     "output_type": "stream",
     "text": [
      "2023-10-25 12:44:54 [info     ] Saving to /u/home/z/zhuozshi/project-pasaniuc/ukbb_project/v2/test_folder/T1D.7.csv.gz\n",
      "2023-10-25 12:45:00 [info     ] Currently computing chromosome /u/project/sgss/UKBB/UKB-ADMIXED/01-dataset/out/rfmix-hm3-lanc/chr8.msp.tsv\n",
      "2023-10-25 12:45:01 [info     ] Reading phenotypes and covariates in /u/home/z/zhuozshi/project-pasaniuc/ukbb_project/v2/test_folder/test_comb.zip with shape (488266, 13)\n",
      "First 5 lines of data \n",
      "                 PHENO  AGE  SEX  ...      PC8       PC9      PC10\n",
      "id                                ...                             \n",
      "1923142_1923142    0.0   41    0  ... -2.16198  1.098610  1.118510\n",
      "5896937_5896937    0.0   53    0  ...  1.44203  1.102370  3.549290\n",
      "2847894_2847894    NaN   58    1  ...  3.46699 -0.622341  1.860490\n",
      "5764431_5764431    0.0   60    0  ... -1.80882 -0.505936  0.342399\n",
      "4695056_4695056    0.0   65    0  ... -5.85230 -3.074070  1.981010\n",
      "\n",
      "[5 rows x 13 columns]\n",
      "2023-10-25 12:45:04 [info     ] Found mismatched phenotype and lanc. Removed\n",
      "2023-10-25 12:45:04 [info     ] Found nan phenotypes. Removed\n"
     ]
    },
    {
     "name": "stderr",
     "output_type": "stream",
     "text": [
      "admix.assoc.marginal: 100%|██████████| 1/1 [00:04<00:00,  4.40s/it]\n"
     ]
    },
    {
     "name": "stdout",
     "output_type": "stream",
     "text": [
      "2023-10-25 12:45:20 [info     ] Saving to /u/home/z/zhuozshi/project-pasaniuc/ukbb_project/v2/test_folder/T1D.8.csv.gz\n",
      "2023-10-25 12:45:26 [info     ] Currently computing chromosome /u/project/sgss/UKBB/UKB-ADMIXED/01-dataset/out/rfmix-hm3-lanc/chr9.msp.tsv\n",
      "2023-10-25 12:45:27 [info     ] Reading phenotypes and covariates in /u/home/z/zhuozshi/project-pasaniuc/ukbb_project/v2/test_folder/test_comb.zip with shape (488266, 13)\n",
      "First 5 lines of data \n",
      "                 PHENO  AGE  SEX  ...      PC8       PC9      PC10\n",
      "id                                ...                             \n",
      "1923142_1923142    0.0   41    0  ... -2.16198  1.098610  1.118510\n",
      "5896937_5896937    0.0   53    0  ...  1.44203  1.102370  3.549290\n",
      "2847894_2847894    NaN   58    1  ...  3.46699 -0.622341  1.860490\n",
      "5764431_5764431    0.0   60    0  ... -1.80882 -0.505936  0.342399\n",
      "4695056_4695056    0.0   65    0  ... -5.85230 -3.074070  1.981010\n",
      "\n",
      "[5 rows x 13 columns]\n",
      "2023-10-25 12:45:29 [info     ] Found mismatched phenotype and lanc. Removed\n",
      "2023-10-25 12:45:29 [info     ] Found nan phenotypes. Removed\n"
     ]
    },
    {
     "name": "stderr",
     "output_type": "stream",
     "text": [
      "admix.assoc.marginal: 100%|██████████| 1/1 [00:02<00:00,  2.69s/it]\n"
     ]
    },
    {
     "name": "stdout",
     "output_type": "stream",
     "text": [
      "2023-10-25 12:45:39 [info     ] Saving to /u/home/z/zhuozshi/project-pasaniuc/ukbb_project/v2/test_folder/T1D.9.csv.gz\n",
      "2023-10-25 12:45:45 [info     ] Currently computing chromosome /u/project/sgss/UKBB/UKB-ADMIXED/01-dataset/out/rfmix-hm3-lanc/chr10.msp.tsv\n",
      "2023-10-25 12:45:46 [info     ] Reading phenotypes and covariates in /u/home/z/zhuozshi/project-pasaniuc/ukbb_project/v2/test_folder/test_comb.zip with shape (488266, 13)\n",
      "First 5 lines of data \n",
      "                 PHENO  AGE  SEX  ...      PC8       PC9      PC10\n",
      "id                                ...                             \n",
      "1923142_1923142    0.0   41    0  ... -2.16198  1.098610  1.118510\n",
      "5896937_5896937    0.0   53    0  ...  1.44203  1.102370  3.549290\n",
      "2847894_2847894    NaN   58    1  ...  3.46699 -0.622341  1.860490\n",
      "5764431_5764431    0.0   60    0  ... -1.80882 -0.505936  0.342399\n",
      "4695056_4695056    0.0   65    0  ... -5.85230 -3.074070  1.981010\n",
      "\n",
      "[5 rows x 13 columns]\n",
      "2023-10-25 12:45:48 [info     ] Found mismatched phenotype and lanc. Removed\n",
      "2023-10-25 12:45:49 [info     ] Found nan phenotypes. Removed\n"
     ]
    },
    {
     "name": "stderr",
     "output_type": "stream",
     "text": [
      "admix.assoc.marginal: 100%|██████████| 1/1 [00:03<00:00,  3.13s/it]\n"
     ]
    },
    {
     "name": "stdout",
     "output_type": "stream",
     "text": [
      "2023-10-25 12:46:00 [info     ] Saving to /u/home/z/zhuozshi/project-pasaniuc/ukbb_project/v2/test_folder/T1D.10.csv.gz\n",
      "2023-10-25 12:46:06 [info     ] Currently computing chromosome /u/project/sgss/UKBB/UKB-ADMIXED/01-dataset/out/rfmix-hm3-lanc/chr11.msp.tsv\n",
      "2023-10-25 12:46:07 [info     ] Reading phenotypes and covariates in /u/home/z/zhuozshi/project-pasaniuc/ukbb_project/v2/test_folder/test_comb.zip with shape (488266, 13)\n",
      "First 5 lines of data \n",
      "                 PHENO  AGE  SEX  ...      PC8       PC9      PC10\n",
      "id                                ...                             \n",
      "1923142_1923142    0.0   41    0  ... -2.16198  1.098610  1.118510\n",
      "5896937_5896937    0.0   53    0  ...  1.44203  1.102370  3.549290\n",
      "2847894_2847894    NaN   58    1  ...  3.46699 -0.622341  1.860490\n",
      "5764431_5764431    0.0   60    0  ... -1.80882 -0.505936  0.342399\n",
      "4695056_4695056    0.0   65    0  ... -5.85230 -3.074070  1.981010\n",
      "\n",
      "[5 rows x 13 columns]\n",
      "2023-10-25 12:46:09 [info     ] Found mismatched phenotype and lanc. Removed\n",
      "2023-10-25 12:46:09 [info     ] Found nan phenotypes. Removed\n"
     ]
    },
    {
     "name": "stderr",
     "output_type": "stream",
     "text": [
      "admix.assoc.marginal: 100%|██████████| 1/1 [00:03<00:00,  3.46s/it]\n"
     ]
    },
    {
     "name": "stdout",
     "output_type": "stream",
     "text": [
      "2023-10-25 12:46:23 [info     ] Saving to /u/home/z/zhuozshi/project-pasaniuc/ukbb_project/v2/test_folder/T1D.11.csv.gz\n",
      "2023-10-25 12:46:29 [info     ] Currently computing chromosome /u/project/sgss/UKBB/UKB-ADMIXED/01-dataset/out/rfmix-hm3-lanc/chr12.msp.tsv\n",
      "2023-10-25 12:46:30 [info     ] Reading phenotypes and covariates in /u/home/z/zhuozshi/project-pasaniuc/ukbb_project/v2/test_folder/test_comb.zip with shape (488266, 13)\n",
      "First 5 lines of data \n",
      "                 PHENO  AGE  SEX  ...      PC8       PC9      PC10\n",
      "id                                ...                             \n",
      "1923142_1923142    0.0   41    0  ... -2.16198  1.098610  1.118510\n",
      "5896937_5896937    0.0   53    0  ...  1.44203  1.102370  3.549290\n",
      "2847894_2847894    NaN   58    1  ...  3.46699 -0.622341  1.860490\n",
      "5764431_5764431    0.0   60    0  ... -1.80882 -0.505936  0.342399\n",
      "4695056_4695056    0.0   65    0  ... -5.85230 -3.074070  1.981010\n",
      "\n",
      "[5 rows x 13 columns]\n",
      "2023-10-25 12:46:32 [info     ] Found mismatched phenotype and lanc. Removed\n",
      "2023-10-25 12:46:32 [info     ] Found nan phenotypes. Removed\n"
     ]
    },
    {
     "name": "stderr",
     "output_type": "stream",
     "text": [
      "admix.assoc.marginal: 100%|██████████| 1/1 [00:03<00:00,  3.24s/it]\n"
     ]
    },
    {
     "name": "stdout",
     "output_type": "stream",
     "text": [
      "2023-10-25 12:46:45 [info     ] Saving to /u/home/z/zhuozshi/project-pasaniuc/ukbb_project/v2/test_folder/T1D.12.csv.gz\n",
      "2023-10-25 12:46:53 [info     ] Currently computing chromosome /u/project/sgss/UKBB/UKB-ADMIXED/01-dataset/out/rfmix-hm3-lanc/chr13.msp.tsv\n",
      "2023-10-25 12:46:54 [info     ] Reading phenotypes and covariates in /u/home/z/zhuozshi/project-pasaniuc/ukbb_project/v2/test_folder/test_comb.zip with shape (488266, 13)\n",
      "First 5 lines of data \n",
      "                 PHENO  AGE  SEX  ...      PC8       PC9      PC10\n",
      "id                                ...                             \n",
      "1923142_1923142    0.0   41    0  ... -2.16198  1.098610  1.118510\n",
      "5896937_5896937    0.0   53    0  ...  1.44203  1.102370  3.549290\n",
      "2847894_2847894    NaN   58    1  ...  3.46699 -0.622341  1.860490\n",
      "5764431_5764431    0.0   60    0  ... -1.80882 -0.505936  0.342399\n",
      "4695056_4695056    0.0   65    0  ... -5.85230 -3.074070  1.981010\n",
      "\n",
      "[5 rows x 13 columns]\n",
      "2023-10-25 12:46:56 [info     ] Found mismatched phenotype and lanc. Removed\n",
      "2023-10-25 12:46:56 [info     ] Found nan phenotypes. Removed\n"
     ]
    },
    {
     "name": "stderr",
     "output_type": "stream",
     "text": [
      "admix.assoc.marginal: 100%|██████████| 1/1 [00:03<00:00,  3.13s/it]\n"
     ]
    },
    {
     "name": "stdout",
     "output_type": "stream",
     "text": [
      "2023-10-25 12:47:09 [info     ] Saving to /u/home/z/zhuozshi/project-pasaniuc/ukbb_project/v2/test_folder/T1D.13.csv.gz\n",
      "2023-10-25 12:47:15 [info     ] Currently computing chromosome /u/project/sgss/UKBB/UKB-ADMIXED/01-dataset/out/rfmix-hm3-lanc/chr14.msp.tsv\n",
      "2023-10-25 12:47:16 [info     ] Reading phenotypes and covariates in /u/home/z/zhuozshi/project-pasaniuc/ukbb_project/v2/test_folder/test_comb.zip with shape (488266, 13)\n",
      "First 5 lines of data \n",
      "                 PHENO  AGE  SEX  ...      PC8       PC9      PC10\n",
      "id                                ...                             \n",
      "1923142_1923142    0.0   41    0  ... -2.16198  1.098610  1.118510\n",
      "5896937_5896937    0.0   53    0  ...  1.44203  1.102370  3.549290\n",
      "2847894_2847894    NaN   58    1  ...  3.46699 -0.622341  1.860490\n",
      "5764431_5764431    0.0   60    0  ... -1.80882 -0.505936  0.342399\n",
      "4695056_4695056    0.0   65    0  ... -5.85230 -3.074070  1.981010\n",
      "\n",
      "[5 rows x 13 columns]\n",
      "2023-10-25 12:47:18 [info     ] Found mismatched phenotype and lanc. Removed\n",
      "2023-10-25 12:47:18 [info     ] Found nan phenotypes. Removed\n"
     ]
    },
    {
     "name": "stderr",
     "output_type": "stream",
     "text": [
      "admix.assoc.marginal: 100%|██████████| 1/1 [00:02<00:00,  2.68s/it]\n"
     ]
    },
    {
     "name": "stdout",
     "output_type": "stream",
     "text": [
      "2023-10-25 12:47:27 [info     ] Saving to /u/home/z/zhuozshi/project-pasaniuc/ukbb_project/v2/test_folder/T1D.14.csv.gz\n",
      "2023-10-25 12:47:32 [info     ] Currently computing chromosome /u/project/sgss/UKBB/UKB-ADMIXED/01-dataset/out/rfmix-hm3-lanc/chr15.msp.tsv\n",
      "2023-10-25 12:47:33 [info     ] Reading phenotypes and covariates in /u/home/z/zhuozshi/project-pasaniuc/ukbb_project/v2/test_folder/test_comb.zip with shape (488266, 13)\n",
      "First 5 lines of data \n",
      "                 PHENO  AGE  SEX  ...      PC8       PC9      PC10\n",
      "id                                ...                             \n",
      "1923142_1923142    0.0   41    0  ... -2.16198  1.098610  1.118510\n",
      "5896937_5896937    0.0   53    0  ...  1.44203  1.102370  3.549290\n",
      "2847894_2847894    NaN   58    1  ...  3.46699 -0.622341  1.860490\n",
      "5764431_5764431    0.0   60    0  ... -1.80882 -0.505936  0.342399\n",
      "4695056_4695056    0.0   65    0  ... -5.85230 -3.074070  1.981010\n",
      "\n",
      "[5 rows x 13 columns]\n",
      "2023-10-25 12:47:35 [info     ] Found mismatched phenotype and lanc. Removed\n",
      "2023-10-25 12:47:35 [info     ] Found nan phenotypes. Removed\n"
     ]
    },
    {
     "name": "stderr",
     "output_type": "stream",
     "text": [
      "admix.assoc.marginal: 100%|██████████| 1/1 [00:02<00:00,  2.07s/it]\n"
     ]
    },
    {
     "name": "stdout",
     "output_type": "stream",
     "text": [
      "2023-10-25 12:47:44 [info     ] Saving to /u/home/z/zhuozshi/project-pasaniuc/ukbb_project/v2/test_folder/T1D.15.csv.gz\n",
      "2023-10-25 12:47:49 [info     ] Currently computing chromosome /u/project/sgss/UKBB/UKB-ADMIXED/01-dataset/out/rfmix-hm3-lanc/chr16.msp.tsv\n",
      "2023-10-25 12:47:50 [info     ] Reading phenotypes and covariates in /u/home/z/zhuozshi/project-pasaniuc/ukbb_project/v2/test_folder/test_comb.zip with shape (488266, 13)\n",
      "First 5 lines of data \n",
      "                 PHENO  AGE  SEX  ...      PC8       PC9      PC10\n",
      "id                                ...                             \n",
      "1923142_1923142    0.0   41    0  ... -2.16198  1.098610  1.118510\n",
      "5896937_5896937    0.0   53    0  ...  1.44203  1.102370  3.549290\n",
      "2847894_2847894    NaN   58    1  ...  3.46699 -0.622341  1.860490\n",
      "5764431_5764431    0.0   60    0  ... -1.80882 -0.505936  0.342399\n",
      "4695056_4695056    0.0   65    0  ... -5.85230 -3.074070  1.981010\n",
      "\n",
      "[5 rows x 13 columns]\n",
      "2023-10-25 12:47:52 [info     ] Found mismatched phenotype and lanc. Removed\n",
      "2023-10-25 12:47:52 [info     ] Found nan phenotypes. Removed\n"
     ]
    },
    {
     "name": "stderr",
     "output_type": "stream",
     "text": [
      "admix.assoc.marginal: 100%|██████████| 1/1 [00:02<00:00,  2.55s/it]\n"
     ]
    },
    {
     "name": "stdout",
     "output_type": "stream",
     "text": [
      "2023-10-25 12:48:01 [info     ] Saving to /u/home/z/zhuozshi/project-pasaniuc/ukbb_project/v2/test_folder/T1D.16.csv.gz\n",
      "2023-10-25 12:48:08 [info     ] Currently computing chromosome /u/project/sgss/UKBB/UKB-ADMIXED/01-dataset/out/rfmix-hm3-lanc/chr17.msp.tsv\n",
      "2023-10-25 12:48:09 [info     ] Reading phenotypes and covariates in /u/home/z/zhuozshi/project-pasaniuc/ukbb_project/v2/test_folder/test_comb.zip with shape (488266, 13)\n",
      "First 5 lines of data \n",
      "                 PHENO  AGE  SEX  ...      PC8       PC9      PC10\n",
      "id                                ...                             \n",
      "1923142_1923142    0.0   41    0  ... -2.16198  1.098610  1.118510\n",
      "5896937_5896937    0.0   53    0  ...  1.44203  1.102370  3.549290\n",
      "2847894_2847894    NaN   58    1  ...  3.46699 -0.622341  1.860490\n",
      "5764431_5764431    0.0   60    0  ... -1.80882 -0.505936  0.342399\n",
      "4695056_4695056    0.0   65    0  ... -5.85230 -3.074070  1.981010\n",
      "\n",
      "[5 rows x 13 columns]\n",
      "2023-10-25 12:48:11 [info     ] Found mismatched phenotype and lanc. Removed\n",
      "2023-10-25 12:48:11 [info     ] Found nan phenotypes. Removed\n"
     ]
    },
    {
     "name": "stderr",
     "output_type": "stream",
     "text": [
      "admix.assoc.marginal: 100%|██████████| 1/1 [00:02<00:00,  2.20s/it]\n"
     ]
    },
    {
     "name": "stdout",
     "output_type": "stream",
     "text": [
      "2023-10-25 12:48:20 [info     ] Saving to /u/home/z/zhuozshi/project-pasaniuc/ukbb_project/v2/test_folder/T1D.17.csv.gz\n",
      "2023-10-25 12:48:25 [info     ] Currently computing chromosome /u/project/sgss/UKBB/UKB-ADMIXED/01-dataset/out/rfmix-hm3-lanc/chr18.msp.tsv\n",
      "2023-10-25 12:48:26 [info     ] Reading phenotypes and covariates in /u/home/z/zhuozshi/project-pasaniuc/ukbb_project/v2/test_folder/test_comb.zip with shape (488266, 13)\n",
      "First 5 lines of data \n",
      "                 PHENO  AGE  SEX  ...      PC8       PC9      PC10\n",
      "id                                ...                             \n",
      "1923142_1923142    0.0   41    0  ... -2.16198  1.098610  1.118510\n",
      "5896937_5896937    0.0   53    0  ...  1.44203  1.102370  3.549290\n",
      "2847894_2847894    NaN   58    1  ...  3.46699 -0.622341  1.860490\n",
      "5764431_5764431    0.0   60    0  ... -1.80882 -0.505936  0.342399\n",
      "4695056_4695056    0.0   65    0  ... -5.85230 -3.074070  1.981010\n",
      "\n",
      "[5 rows x 13 columns]\n",
      "2023-10-25 12:48:28 [info     ] Found mismatched phenotype and lanc. Removed\n",
      "2023-10-25 12:48:28 [info     ] Found nan phenotypes. Removed\n"
     ]
    },
    {
     "name": "stderr",
     "output_type": "stream",
     "text": [
      "admix.assoc.marginal: 100%|██████████| 1/1 [00:02<00:00,  2.35s/it]\n"
     ]
    },
    {
     "name": "stdout",
     "output_type": "stream",
     "text": [
      "2023-10-25 12:48:36 [info     ] Saving to /u/home/z/zhuozshi/project-pasaniuc/ukbb_project/v2/test_folder/T1D.18.csv.gz\n",
      "2023-10-25 12:48:42 [info     ] Currently computing chromosome /u/project/sgss/UKBB/UKB-ADMIXED/01-dataset/out/rfmix-hm3-lanc/chr19.msp.tsv\n",
      "2023-10-25 12:48:43 [info     ] Reading phenotypes and covariates in /u/home/z/zhuozshi/project-pasaniuc/ukbb_project/v2/test_folder/test_comb.zip with shape (488266, 13)\n",
      "First 5 lines of data \n",
      "                 PHENO  AGE  SEX  ...      PC8       PC9      PC10\n",
      "id                                ...                             \n",
      "1923142_1923142    0.0   41    0  ... -2.16198  1.098610  1.118510\n",
      "5896937_5896937    0.0   53    0  ...  1.44203  1.102370  3.549290\n",
      "2847894_2847894    NaN   58    1  ...  3.46699 -0.622341  1.860490\n",
      "5764431_5764431    0.0   60    0  ... -1.80882 -0.505936  0.342399\n",
      "4695056_4695056    0.0   65    0  ... -5.85230 -3.074070  1.981010\n",
      "\n",
      "[5 rows x 13 columns]\n",
      "2023-10-25 12:48:44 [info     ] Found mismatched phenotype and lanc. Removed\n",
      "2023-10-25 12:48:44 [info     ] Found nan phenotypes. Removed\n"
     ]
    },
    {
     "name": "stderr",
     "output_type": "stream",
     "text": [
      "admix.assoc.marginal: 100%|██████████| 1/1 [00:01<00:00,  1.57s/it]\n"
     ]
    },
    {
     "name": "stdout",
     "output_type": "stream",
     "text": [
      "2023-10-25 12:48:50 [info     ] Saving to /u/home/z/zhuozshi/project-pasaniuc/ukbb_project/v2/test_folder/T1D.19.csv.gz\n",
      "2023-10-25 12:48:54 [info     ] Currently computing chromosome /u/project/sgss/UKBB/UKB-ADMIXED/01-dataset/out/rfmix-hm3-lanc/chr20.msp.tsv\n",
      "2023-10-25 12:48:56 [info     ] Reading phenotypes and covariates in /u/home/z/zhuozshi/project-pasaniuc/ukbb_project/v2/test_folder/test_comb.zip with shape (488266, 13)\n",
      "First 5 lines of data \n",
      "                 PHENO  AGE  SEX  ...      PC8       PC9      PC10\n",
      "id                                ...                             \n",
      "1923142_1923142    0.0   41    0  ... -2.16198  1.098610  1.118510\n",
      "5896937_5896937    0.0   53    0  ...  1.44203  1.102370  3.549290\n",
      "2847894_2847894    NaN   58    1  ...  3.46699 -0.622341  1.860490\n",
      "5764431_5764431    0.0   60    0  ... -1.80882 -0.505936  0.342399\n",
      "4695056_4695056    0.0   65    0  ... -5.85230 -3.074070  1.981010\n",
      "\n",
      "[5 rows x 13 columns]\n",
      "2023-10-25 12:48:58 [info     ] Found mismatched phenotype and lanc. Removed\n",
      "2023-10-25 12:48:58 [info     ] Found nan phenotypes. Removed\n"
     ]
    },
    {
     "name": "stderr",
     "output_type": "stream",
     "text": [
      "admix.assoc.marginal: 100%|██████████| 1/1 [00:02<00:00,  2.71s/it]\n"
     ]
    },
    {
     "name": "stdout",
     "output_type": "stream",
     "text": [
      "2023-10-25 12:49:08 [info     ] Saving to /u/home/z/zhuozshi/project-pasaniuc/ukbb_project/v2/test_folder/T1D.20.csv.gz\n",
      "2023-10-25 12:49:14 [info     ] Currently computing chromosome /u/project/sgss/UKBB/UKB-ADMIXED/01-dataset/out/rfmix-hm3-lanc/chr21.msp.tsv\n",
      "2023-10-25 12:49:15 [info     ] Reading phenotypes and covariates in /u/home/z/zhuozshi/project-pasaniuc/ukbb_project/v2/test_folder/test_comb.zip with shape (488266, 13)\n",
      "First 5 lines of data \n",
      "                 PHENO  AGE  SEX  ...      PC8       PC9      PC10\n",
      "id                                ...                             \n",
      "1923142_1923142    0.0   41    0  ... -2.16198  1.098610  1.118510\n",
      "5896937_5896937    0.0   53    0  ...  1.44203  1.102370  3.549290\n",
      "2847894_2847894    NaN   58    1  ...  3.46699 -0.622341  1.860490\n",
      "5764431_5764431    0.0   60    0  ... -1.80882 -0.505936  0.342399\n",
      "4695056_4695056    0.0   65    0  ... -5.85230 -3.074070  1.981010\n",
      "\n",
      "[5 rows x 13 columns]\n",
      "2023-10-25 12:49:16 [info     ] Found mismatched phenotype and lanc. Removed\n",
      "2023-10-25 12:49:16 [info     ] Found nan phenotypes. Removed\n"
     ]
    },
    {
     "name": "stderr",
     "output_type": "stream",
     "text": [
      "admix.assoc.marginal: 100%|██████████| 1/1 [00:01<00:00,  1.54s/it]\n"
     ]
    },
    {
     "name": "stdout",
     "output_type": "stream",
     "text": [
      "2023-10-25 12:49:22 [info     ] Saving to /u/home/z/zhuozshi/project-pasaniuc/ukbb_project/v2/test_folder/T1D.21.csv.gz\n",
      "2023-10-25 12:49:28 [info     ] Currently computing chromosome /u/project/sgss/UKBB/UKB-ADMIXED/01-dataset/out/rfmix-hm3-lanc/chr22.msp.tsv\n",
      "2023-10-25 12:49:29 [info     ] Reading phenotypes and covariates in /u/home/z/zhuozshi/project-pasaniuc/ukbb_project/v2/test_folder/test_comb.zip with shape (488266, 13)\n",
      "First 5 lines of data \n",
      "                 PHENO  AGE  SEX  ...      PC8       PC9      PC10\n",
      "id                                ...                             \n",
      "1923142_1923142    0.0   41    0  ... -2.16198  1.098610  1.118510\n",
      "5896937_5896937    0.0   53    0  ...  1.44203  1.102370  3.549290\n",
      "2847894_2847894    NaN   58    1  ...  3.46699 -0.622341  1.860490\n",
      "5764431_5764431    0.0   60    0  ... -1.80882 -0.505936  0.342399\n",
      "4695056_4695056    0.0   65    0  ... -5.85230 -3.074070  1.981010\n",
      "\n",
      "[5 rows x 13 columns]\n",
      "2023-10-25 12:49:30 [info     ] Found mismatched phenotype and lanc. Removed\n",
      "2023-10-25 12:49:30 [info     ] Found nan phenotypes. Removed\n"
     ]
    },
    {
     "name": "stderr",
     "output_type": "stream",
     "text": [
      "admix.assoc.marginal: 100%|██████████| 1/1 [00:01<00:00,  1.19s/it]\n"
     ]
    },
    {
     "name": "stdout",
     "output_type": "stream",
     "text": [
      "2023-10-25 12:49:34 [info     ] Saving to /u/home/z/zhuozshi/project-pasaniuc/ukbb_project/v2/test_folder/T1D.22.csv.gz\n"
     ]
    }
   ],
   "source": [
    "# run the script to \n",
    "\n",
    "\n",
    "for i in range(1,23):\n",
    "  \n",
    "    os.system(f\"python computeChrom.py \\\n",
    "                -o /u/home/z/zhuozshi/project-pasaniuc/ukbb_project/v2/test_folder/T1D.{i} \\\n",
    "                -p /u/home/z/zhuozshi/project-pasaniuc/ukbb_project/v2/test_folder/test_comb.zip \\\n",
    "                -r /u/project/sgss/UKBB/UKB-ADMIXED/01-dataset/out/rfmix-hm3-lanc/chr{i}.msp.tsv\")\n",
    "    \n",
    "    \n",
    "    \n",
    "    "
   ]
  },
  {
   "cell_type": "code",
   "execution_count": 11,
   "id": "c5edd7c2",
   "metadata": {},
   "outputs": [
    {
     "name": "stdout",
     "output_type": "stream",
     "text": [
      "2023-10-25 12:52:54 [info     ] Currently compiling chromosomes in /u/home/z/zhuozshi/project-pasaniuc/ukbb_project/v2/test_folder/T1D\n",
      "2023-10-25 12:52:55 [info     ] Total of 27996 lanc segments\n",
      "2023-10-25 12:52:56 [info     ] Saving association to /u/home/z/zhuozshi/project-pasaniuc/ukbb_project/v2/test_folder/T1D_assoc.csv.gz and /u/home/z/zhuozshi/project-pasaniuc/ukbb_project/v2/test_folder/T1D_assoc.png\n",
      "2023-10-25 12:52:58 [info     ] Saving to /u/home/z/zhuozshi/project-pasaniuc/ukbb_project/v2/test_folder/T1D_assoc_qqplot.png and /u/home/z/zhuozshi/project-pasaniuc/ukbb_project/v2/test_folder/T1D_assoc_histo.png\n",
      "2023-10-25 12:52:58 [info     ] Saving row of table to /u/home/z/zhuozshi/project-pasaniuc/ukbb_project/v2/test_folder/T1D_assoc_tableRow.npy\n"
     ]
    },
    {
     "data": {
      "text/plain": [
       "0"
      ]
     },
     "execution_count": 11,
     "metadata": {},
     "output_type": "execute_result"
    }
   ],
   "source": [
    "os.system(f\"python compileResult.py \\\n",
    "            -i /u/home/z/zhuozshi/project-pasaniuc/ukbb_project/v2/test_folder/T1D \\\n",
    "            -o /u/home/z/zhuozshi/project-pasaniuc/ukbb_project/v2/test_folder/T1D_assoc \\\n",
    "            -n T1D_250.1\")\n",
    "\n",
    "\n"
   ]
  },
  {
   "cell_type": "code",
   "execution_count": 13,
   "id": "5eeeadaf",
   "metadata": {},
   "outputs": [
    {
     "name": "stdout",
     "output_type": "stream",
     "text": [
      "2023-10-25 12:53:43 [info     ] Currently compiling table in /u/home/z/zhuozshi/project-pasaniuc/ukbb_project/v2/test_folder/\n",
      "2023-10-25 12:53:43 [info     ] 1 found\n",
      "2023-10-25 12:53:43 [info     ] Saving table to /u/home/z/zhuozshi/project-pasaniuc/ukbb_project/v2/test_folder/table.csv.gz\n"
     ]
    },
    {
     "data": {
      "text/plain": [
       "0"
      ]
     },
     "execution_count": 13,
     "metadata": {},
     "output_type": "execute_result"
    }
   ],
   "source": [
    "os.system(f\"python tableCompile.py \\\n",
    "            -i /u/home/z/zhuozshi/project-pasaniuc/ukbb_project/v2/test_folder/ \\\n",
    "            -o /u/home/z/zhuozshi/project-pasaniuc/ukbb_project/v2/test_folder/table\")"
   ]
  },
  {
   "cell_type": "code",
   "execution_count": null,
   "id": "9a57ea31",
   "metadata": {},
   "outputs": [],
   "source": []
  }
 ],
 "metadata": {
  "kernelspec": {
   "display_name": "Python 3 (ipykernel)",
   "language": "python",
   "name": "python3"
  },
  "language_info": {
   "codemirror_mode": {
    "name": "ipython",
    "version": 3
   },
   "file_extension": ".py",
   "mimetype": "text/x-python",
   "name": "python",
   "nbconvert_exporter": "python",
   "pygments_lexer": "ipython3",
   "version": "3.9.6"
  }
 },
 "nbformat": 4,
 "nbformat_minor": 5
}
